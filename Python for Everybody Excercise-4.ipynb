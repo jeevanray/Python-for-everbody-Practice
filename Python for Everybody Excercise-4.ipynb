{
 "cells": [
  {
   "cell_type": "markdown",
   "metadata": {},
   "source": [
    "# Exercise 4.1:\n",
    "Run the program on your system and see what numbers you get.\n",
    "Run the program more than once and see what numbers you get.\n",
    "\n",
    "Python for Everybody: Exploring Data Using Python 3\n",
    "by Charles R. Severance"
   ]
  },
  {
   "cell_type": "code",
   "execution_count": 4,
   "metadata": {},
   "outputs": [
    {
     "name": "stdout",
     "output_type": "stream",
     "text": [
      "first Run\n",
      "0.09612519551299736\n",
      "0.25856266405430073\n",
      "0.9825204559793308\n",
      "0.8892764706855194\n",
      "0.2611288857805161\n",
      "0.19731120943328884\n",
      "0.22814127834590658\n",
      "0.9289443223630347\n",
      "0.20557134814928446\n",
      "0.23005373983317934\n",
      "Second Run\n",
      "0.700478678687394\n",
      "0.6176734275970333\n",
      "0.42739580846180236\n",
      "0.6632482026438429\n",
      "0.2747856884332921\n",
      "0.6600304270263881\n",
      "0.05119485278873148\n",
      "0.6203941764127152\n",
      "0.3079612171309216\n",
      "0.5920288165187849\n"
     ]
    }
   ],
   "source": [
    "import random\n",
    "\n",
    "print('first Run')\n",
    "for i in range(10):\n",
    "    x = random.random() # generate Random Numbers in the interval [0, 1)\n",
    "    print(x)\n",
    "\n",
    "print('Second Run')\n",
    "for i in range(10):\n",
    "    x = random.random()\n",
    "    print(x)"
   ]
  },
  {
   "cell_type": "markdown",
   "metadata": {},
   "source": [
    "# Exercise 4.2 \n",
    "Move the last line of this program to the top, so the function\n",
    "call appears before the definitions. Run the program and see what error\n",
    "message you get.\n",
    "\n",
    "Code: http://www.py4e.com/code3/lyrics.py"
   ]
  },
  {
   "cell_type": "code",
   "execution_count": 5,
   "metadata": {},
   "outputs": [
    {
     "ename": "NameError",
     "evalue": "name 'repeat_lyrics' is not defined",
     "output_type": "error",
     "traceback": [
      "\u001b[1;31m---------------------------------------------------------------------------\u001b[0m",
      "\u001b[1;31mNameError\u001b[0m                                 Traceback (most recent call last)",
      "\u001b[1;32m<ipython-input-5-9a03147ece25>\u001b[0m in \u001b[0;36m<module>\u001b[1;34m\u001b[0m\n\u001b[1;32m----> 1\u001b[1;33m \u001b[0mrepeat_lyrics\u001b[0m\u001b[1;33m(\u001b[0m\u001b[1;33m)\u001b[0m\u001b[1;33m\u001b[0m\u001b[1;33m\u001b[0m\u001b[0m\n\u001b[0m\u001b[0;32m      2\u001b[0m \u001b[1;33m\u001b[0m\u001b[0m\n\u001b[0;32m      3\u001b[0m \u001b[1;33m\u001b[0m\u001b[0m\n\u001b[0;32m      4\u001b[0m \u001b[1;32mdef\u001b[0m \u001b[0mrepeat_lyrics\u001b[0m\u001b[1;33m(\u001b[0m\u001b[1;33m)\u001b[0m\u001b[1;33m:\u001b[0m\u001b[1;33m\u001b[0m\u001b[1;33m\u001b[0m\u001b[0m\n\u001b[0;32m      5\u001b[0m     \u001b[0mprint_lyrics\u001b[0m\u001b[1;33m(\u001b[0m\u001b[1;33m)\u001b[0m\u001b[1;33m\u001b[0m\u001b[1;33m\u001b[0m\u001b[0m\n",
      "\u001b[1;31mNameError\u001b[0m: name 'repeat_lyrics' is not defined"
     ]
    }
   ],
   "source": [
    "repeat_lyrics()\n",
    "\n",
    "\n",
    "def repeat_lyrics():\n",
    "    print_lyrics()\n",
    "    print_lyrics()\n",
    "\n",
    "\n",
    "def print_lyrics():\n",
    "    print(\"I'm a lumberjack, and I'm okay.\")\n",
    "    print('I sleep all night and I work all day.')"
   ]
  },
  {
   "cell_type": "markdown",
   "metadata": {},
   "source": [
    "# Exercise 4.6: \n",
    "Rewrite your pay computation with time-and-a-half for overtime\n",
    "and create a function called computepay which takes two paramteters (hours and\n",
    "rate).\n",
    "\n",
    "Enter Hours: 45\n",
    "\n",
    "Enter Rate: 10\n",
    "\n",
    "Pay: 475.0"
   ]
  },
  {
   "cell_type": "code",
   "execution_count": 3,
   "metadata": {},
   "outputs": [
    {
     "name": "stdout",
     "output_type": "stream",
     "text": [
      "Enter Hours: 2\n",
      "Enter Rate: a\n",
      "Error, please enter numeric input\n"
     ]
    }
   ],
   "source": [
    "def computepay(tmp_hours, tmp_rate):\n",
    "    \"\"\"\n",
    "    Calculates the amount to pay taking into account overtime\n",
    "    Inputs: tmp_hours -- the total hours worked\n",
    "            tmp_rate -- pay rate of the employee\n",
    "    Output: amount due to employee\n",
    "    \"\"\"\n",
    "    if tmp_hours <= 40.0:\n",
    "        return tmp_rate * tmp_hours                # No overtime calculation\n",
    "\n",
    "    # Since the value is returned if hours <= 40, we no longer need the\n",
    "    # else statement here.\n",
    "    overtime = tmp_hours - 40.0                # How much overtime is left\n",
    "    return (tmp_rate * 40.0) + (1.5 * tmp_rate * overtime)\n",
    "\n",
    "\n",
    "def check_for_float(input1):\n",
    "    \"\"\"\n",
    "    Checks if the type of \"input1\" is a float and returns the value if so.\n",
    "    Input:    input1 -- variable to check\n",
    "    Output: val -- value of float\n",
    "    \"\"\"\n",
    "    try:\n",
    "        val = float(input1)                # Only allows input floats\n",
    "        return val\n",
    "    except ValueError:\n",
    "        print('Error, please enter numeric input')\n",
    "#         quit()\n",
    "        \n",
    "\n",
    "\n",
    "input_hours = input('Enter Hours: ')\n",
    "hours = check_for_float(input_hours)\n",
    "if hours:  #if hours in float then this block of code will execute\n",
    "    input_rate = input('Enter Rate: ')\n",
    "    rate = check_for_float(input_rate)\n",
    "    if rate:\n",
    "        pay = computepay(hours, rate)\n",
    "        print('Pay: ', pay)\n",
    "\n"
   ]
  },
  {
   "cell_type": "markdown",
   "metadata": {},
   "source": [
    "# Exercise 4.7:\n",
    "Rewrite the grade program from previous chapter using a function\n",
    "called compute grade that takes a score as its parameter and returns a grade as\n",
    "a string.\n",
    "\n",
    "    Score    Grade\n",
    "    >= 0.9      A\n",
    "    >= 0.8      B\n",
    "    >= 0.7      C\n",
    "    >= 0.6      D\n",
    "    < 0.6      F\n",
    "~~~\n",
    "\n",
    "Enter score: 0.95\n",
    "A\n",
    "\n",
    "Enter score: perfect\n",
    "Bad score\n",
    "\n",
    "Enter score: 10.0\n",
    "Bad score\n",
    "\n",
    "Enter score: 0.75\n",
    "C\n",
    "\n",
    "Enter score: 0.5\n",
    "F\n",
    "\n",
    "Run the program repeatedly  to test the various, different values for input."
   ]
  },
  {
   "cell_type": "code",
   "execution_count": 2,
   "metadata": {},
   "outputs": [
    {
     "name": "stdout",
     "output_type": "stream",
     "text": [
      "Enter score: a\n",
      "ValueError\n",
      "Bad score\n"
     ]
    }
   ],
   "source": [
    "def computegrade(tmp_score):\n",
    "    \"\"\"\n",
    "    Computes the final grade based on a 0.0 to 1.0 scale. If the score is\n",
    "    not between 0.0 and 1.0, returns \"Bad score.\"\n",
    "    Input:    score -- score (must be between 0.0 and 1.0)\n",
    "    Output:    returns a grade as a string.\n",
    "    \"\"\"\n",
    "    if 0.0 <= tmp_score <= 1.0 and score:\n",
    "        if tmp_score >= 0.9:\n",
    "            return 'A'\n",
    "        if tmp_score >= 0.8:\n",
    "            return 'B'\n",
    "        if tmp_score >= 0.7:\n",
    "            return 'C'\n",
    "        if tmp_score >= 0.6:\n",
    "            return 'D'\n",
    "        if tmp_score < 0.6:\n",
    "            return 'F'\n",
    "    # Case 'score' is not on the interval\n",
    "    return 'Bad score'\n",
    "\n",
    "\n",
    "input_score = input('Enter score: ')\n",
    "score = 0.0\n",
    "\n",
    "try:\n",
    "    score = float(input_score)             # Only allows input floats\n",
    "except ValueError:\n",
    "    print('ValueError')\n",
    "#     quit()\n",
    "\n",
    "grade = computegrade(score)\n",
    "print(grade)"
   ]
  },
  {
   "cell_type": "code",
   "execution_count": null,
   "metadata": {},
   "outputs": [],
   "source": []
  }
 ],
 "metadata": {
  "kernelspec": {
   "display_name": "Python 3",
   "language": "python",
   "name": "python3"
  },
  "language_info": {
   "codemirror_mode": {
    "name": "ipython",
    "version": 3
   },
   "file_extension": ".py",
   "mimetype": "text/x-python",
   "name": "python",
   "nbconvert_exporter": "python",
   "pygments_lexer": "ipython3",
   "version": "3.8.5"
  }
 },
 "nbformat": 4,
 "nbformat_minor": 4
}
