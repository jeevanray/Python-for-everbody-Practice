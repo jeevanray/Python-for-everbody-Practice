{
 "cells": [
  {
   "cell_type": "markdown",
   "metadata": {},
   "source": [
    "# Exercise 5.1:\n",
    "Write a program which repeatedly reads numbers until the user\n",
    "enters \"done\". Once \"done\" is entered, print out the total, count, and average\n",
    "of the numbers. If the user enters anything other than a number, detect their\n",
    "mistake using try and except and print an error message and skip to the next\n",
    "number.\n",
    "\n",
    "Enter a number: 4\n",
    "\n",
    "Enter a number: 5\n",
    "\n",
    "Enter a number: bad data\n",
    "\n",
    "Invalid input\n",
    "\n",
    "Enter a number: 7\n",
    "\n",
    "Enter a number: done\n",
    "\n",
    "16 3 5.33333333333333"
   ]
  },
  {
   "cell_type": "code",
   "execution_count": 29,
   "metadata": {
    "scrolled": true
   },
   "outputs": [
    {
     "name": "stdout",
     "output_type": "stream",
     "text": [
      "Enter 7 digits for its counts, sum & mean1\n",
      "[1.0]\n",
      "Enter 7 digits for its counts, sum & mean2\n",
      "[1.0, 2.0]\n",
      "Enter 7 digits for its counts, sum & mean3\n",
      "[1.0, 2.0, 3.0]\n",
      "Enter 7 digits for its counts, sum & mean4\n",
      "[1.0, 2.0, 3.0, 4.0]\n",
      "Enter 7 digits for its counts, sum & mean5\n",
      "[1.0, 2.0, 3.0, 4.0, 5.0]\n",
      "Enter 7 digits for its counts, sum & mean6\n",
      "[1.0, 2.0, 3.0, 4.0, 5.0, 6.0]\n",
      "Enter 7 digits for its counts, sum & mean\n",
      "Bad value\n",
      "Enter 7 digits for its counts, sum & mean7\n",
      "[1.0, 2.0, 3.0, 4.0, 5.0, 6.0, 7.0]\n",
      "7 \n",
      " 28.0 \n",
      " 4.0\n"
     ]
    }
   ],
   "source": [
    "#takes only 7 float values\n",
    "y =[]\n",
    "counter =0\n",
    "while counter<7:\n",
    "    x = input(\"Enter 7 digits for its counts, sum & mean\")\n",
    "    try:\n",
    "        val = float(x)\n",
    "        y.append(val)\n",
    "        counter+=1\n",
    "        print(y)\n",
    "    except Exception as e:\n",
    "        print(\"Bad value\")\n",
    "        continue\n",
    "        \n",
    "# import numpy as np\n",
    "# b = np.array(y)\n",
    "# total = b.sum()\n",
    "\n",
    "total = 0\n",
    "for i in y:\n",
    "    total+=i\n",
    "    \n",
    "counts= len(b)\n",
    "\n",
    "mean = total/counts\n",
    "print(f'{counts} \\n {total} \\n {mean}')"
   ]
  },
  {
   "cell_type": "code",
   "execution_count": 33,
   "metadata": {},
   "outputs": [
    {
     "name": "stdout",
     "output_type": "stream",
     "text": [
      "Enter 7 digits for its counts, sum & mean1\n",
      "[1.0]\n",
      "Enter 7 digits for its counts, sum & mean2\n",
      "[1.0, 2.0]\n",
      "Enter 7 digits for its counts, sum & mean3\n",
      "[1.0, 2.0, 3.0]\n",
      "Enter 7 digits for its counts, sum & mean4\n",
      "[1.0, 2.0, 3.0, 4.0]\n",
      "Enter 7 digits for its counts, sum & mean6\n",
      "[1.0, 2.0, 3.0, 4.0, 6.0]\n",
      "Enter 7 digits for its counts, sum & mean7\n",
      "[1.0, 2.0, 3.0, 4.0, 6.0, 7.0]\n",
      "Enter 7 digits for its counts, sum & mean8\n",
      "[1.0, 2.0, 3.0, 4.0, 6.0, 7.0, 8.0]\n",
      "Count : 7, Total: 31.0, avg: 4.428571428571429\n"
     ]
    }
   ],
   "source": [
    "#takes any 7 values\n",
    "y =[]\n",
    "counter =0\n",
    "while counter<7:\n",
    "    x = input(\"Enter 7 digits for its counts, sum & mean\")\n",
    "    counter+=1\n",
    "    try:\n",
    "        val = float(x)\n",
    "        y.append(val)\n",
    "        \n",
    "        print(y)\n",
    "    except Exception as e:\n",
    "        print(\"Bad value\")\n",
    "        continue\n",
    "        \n",
    "# import numpy as np\n",
    "# b = np.array(y)\n",
    "# total = b.sum()\n",
    "\n",
    "total = 0\n",
    "for i in y:\n",
    "    total+=i\n",
    "    \n",
    "counts= len(b)\n",
    "\n",
    "mean = total/counts\n",
    "print(f'Count : {counts}, Total: {total}, avg: {mean}')"
   ]
  },
  {
   "cell_type": "markdown",
   "metadata": {},
   "source": [
    "# Exercise 5.1:\n",
    "Write another program that prompts for a list of numbers as\n",
    "above and at the end prints out both the maximum and minimum of the numbers\n",
    "instead of the average."
   ]
  },
  {
   "cell_type": "code",
   "execution_count": 32,
   "metadata": {},
   "outputs": [
    {
     "name": "stdout",
     "output_type": "stream",
     "text": [
      "Enter 7 digits for its counts, sum & mean1\n",
      "[1.0]\n",
      "Enter 7 digits for its counts, sum & mean2\n",
      "[1.0, 2.0]\n",
      "Enter 7 digits for its counts, sum & mean3\n",
      "[1.0, 2.0, 3.0]\n",
      "Enter 7 digits for its counts, sum & mean4\n",
      "[1.0, 2.0, 3.0, 4.0]\n",
      "Enter 7 digits for its counts, sum & mean5\n",
      "[1.0, 2.0, 3.0, 4.0, 5.0]\n",
      "Enter 7 digits for its counts, sum & mean6\n",
      "[1.0, 2.0, 3.0, 4.0, 5.0, 6.0]\n",
      "Enter 7 digits for its counts, sum & mean7\n",
      "[1.0, 2.0, 3.0, 4.0, 5.0, 6.0, 7.0]\n",
      "7 \n",
      " 28.0 \n",
      " 1.0 \n",
      " 6.0\n"
     ]
    }
   ],
   "source": [
    "#takes only 7 float values\n",
    "y =[]\n",
    "counter =0\n",
    "while counter<7:\n",
    "    x = input(\"Enter 7 digits for its counts, sum & mean\")\n",
    "    try:\n",
    "        val = float(x)\n",
    "        y.append(val)\n",
    "        counter+=1\n",
    "        print(y)\n",
    "    except Exception as e:\n",
    "        print(\"Bad value\")\n",
    "        continue\n",
    "        \n",
    "# import numpy as np\n",
    "# b = np.array(y)\n",
    "# total = b.sum()\n",
    "\n",
    "total = 0\n",
    "for i in y:\n",
    "    total+=i\n",
    "    \n",
    "counts= len(b)\n",
    "\n",
    "min_val = b.min()\n",
    "max_val = b.max()\n",
    "print(f'{counts} \\n {total} \\n {min_val} \\n {max_val}')"
   ]
  },
  {
   "cell_type": "code",
   "execution_count": null,
   "metadata": {},
   "outputs": [],
   "source": []
  }
 ],
 "metadata": {
  "kernelspec": {
   "display_name": "Python 3",
   "language": "python",
   "name": "python3"
  },
  "language_info": {
   "codemirror_mode": {
    "name": "ipython",
    "version": 3
   },
   "file_extension": ".py",
   "mimetype": "text/x-python",
   "name": "python",
   "nbconvert_exporter": "python",
   "pygments_lexer": "ipython3",
   "version": "3.8.5"
  }
 },
 "nbformat": 4,
 "nbformat_minor": 4
}
