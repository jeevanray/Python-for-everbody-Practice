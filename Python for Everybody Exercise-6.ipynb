{
 "cells": [
  {
   "cell_type": "markdown",
   "metadata": {},
   "source": [
    "# Exercise 6.1:\n",
    "Write a while loop that starts at the last character in the\n",
    "string and works its way backwards to the first character in the string,\n",
    "printing each letter on a separate line, except backwards."
   ]
  },
  {
   "cell_type": "code",
   "execution_count": 2,
   "metadata": {},
   "outputs": [
    {
     "name": "stdout",
     "output_type": "stream",
     "text": [
      "a\n",
      "n\n",
      "a\n",
      "n\n",
      "a\n",
      "b\n"
     ]
    }
   ],
   "source": [
    "fruit = 'banana'\n",
    "index = len(fruit) - 1\n",
    "while index >= 0:\n",
    "    letter = fruit[index]\n",
    "    print(letter)\n",
    "    index -= 1                          # Update index value\n"
   ]
  },
  {
   "cell_type": "markdown",
   "metadata": {},
   "source": [
    "# Exercise 6.3:\n",
    "Encapsulate this code in a function named count, and generalize\n",
    "it so that it accepts the string and the letter as arguments.\n"
   ]
  },
  {
   "cell_type": "code",
   "execution_count": 3,
   "metadata": {},
   "outputs": [
    {
     "name": "stdout",
     "output_type": "stream",
     "text": [
      "Enter the word: asd\n",
      "Enter the letter: a\n",
      "1\n"
     ]
    }
   ],
   "source": [
    "def count(word, letter):\n",
    "    \n",
    "    counter = 0\n",
    "\n",
    "    for character in word:\n",
    "        if character == letter:\n",
    "            counter += 1\n",
    "    print(counter)\n",
    "\n",
    "\n",
    "input_word = input('Enter the word: ')\n",
    "input_letter = input('Enter the letter: ')\n",
    "count(input_word, input_letter)"
   ]
  },
  {
   "cell_type": "markdown",
   "metadata": {},
   "source": [
    "# Exercise  6.5:\n",
    "Take the following Python code that stores a string:\n",
    "\n",
    "string = 'X-DSPAM-Confidence:0.8475'\n",
    "\n",
    "Use find and string slicing to extract the portion of the string after the\n",
    "colon character and then use the float function to convert the extraced string\n",
    "into a floating number."
   ]
  },
  {
   "cell_type": "code",
   "execution_count": 5,
   "metadata": {},
   "outputs": [
    {
     "data": {
      "text/plain": [
       "0.8475"
      ]
     },
     "execution_count": 5,
     "metadata": {},
     "output_type": "execute_result"
    }
   ],
   "source": [
    "string = 'X-DSPAM-Confidence:0.8475'\n",
    "num = float(string[string.find(':')+1:]) #.find method to get index of ':' +1 gives next index\n",
    "num"
   ]
  },
  {
   "cell_type": "code",
   "execution_count": null,
   "metadata": {},
   "outputs": [],
   "source": []
  }
 ],
 "metadata": {
  "kernelspec": {
   "display_name": "Python 3",
   "language": "python",
   "name": "python3"
  },
  "language_info": {
   "codemirror_mode": {
    "name": "ipython",
    "version": 3
   },
   "file_extension": ".py",
   "mimetype": "text/x-python",
   "name": "python",
   "nbconvert_exporter": "python",
   "pygments_lexer": "ipython3",
   "version": "3.8.5"
  }
 },
 "nbformat": 4,
 "nbformat_minor": 4
}
