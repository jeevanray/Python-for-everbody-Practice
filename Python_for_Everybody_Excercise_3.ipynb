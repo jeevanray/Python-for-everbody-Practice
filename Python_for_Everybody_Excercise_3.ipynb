{
  "nbformat": 4,
  "nbformat_minor": 0,
  "metadata": {
    "colab": {
      "name": "Python for Everybody-Excercise-3.ipynb",
      "provenance": [],
      "collapsed_sections": []
    },
    "kernelspec": {
      "name": "python3",
      "display_name": "Python 3"
    },
    "language_info": {
      "name": "python"
    }
  },
  "cells": [
    {
      "cell_type": "markdown",
      "source": [
        "#Exercise 3.1:\n",
        "Rewrite your pay computation to give the employee 1.5 times the\n",
        "rate for hours worked above 40 hours.\n",
        "\n",
        "Enter Hours: 45\n",
        "\n",
        "Enter Rate: 10\n",
        "\n",
        "Pay: 475.0\n",
        "\n",
        "Python for Everybody: Exploring Data Using Python 3\n",
        "by Charles R. Severance\n",
        "\"\"\""
      ],
      "metadata": {
        "id": "XQ8fE4uLx3Y0"
      }
    },
    {
      "cell_type": "code",
      "source": [
        "pay = 0\n",
        "hours = float(input('Enter Hours: '))\n",
        "rate = float(input('Enter Rate: '))\n",
        "\n",
        "if hours < 40:\n",
        "    pay = rate * hours\n",
        "else:\n",
        "  # Calculate amount of overtime\n",
        "    overtime = hours - 40\n",
        "    pay = (rate * 40.0) + (1.5 * rate * overtime)"
      ],
      "metadata": {
        "colab": {
          "base_uri": "https://localhost:8080/"
        },
        "id": "srX_b-YdyfYl",
        "outputId": "bc4f65f3-746e-400e-824d-c495bbacbe97"
      },
      "execution_count": 5,
      "outputs": [
        {
          "output_type": "stream",
          "name": "stdout",
          "text": [
            "Enter Hours: 45\n",
            "Enter Rate: 10\n",
            "Total Pay: 475.0\n"
          ]
        }
      ]
    },
    {
      "cell_type": "markdown",
      "source": [
        "#Exercise 3.2: \n",
        "Rewrite your pay program using try and except so that your\n",
        "program handles non-numerical input gracefully by printing a message and\n",
        "exiting the program. The folowing shows two executions of the program:\n",
        "\n",
        "Enter Hours: 20\n",
        "\n",
        "Enter Rate : nine\n",
        "\n",
        "Error, please enter numeric input\n",
        "\n",
        "Enter Hours: forty\n",
        "Error, please enter numeric input\n",
        "\n",
        "Python for Everybody: Exploring Data Using Python 3\n",
        "by Charles R. Severance"
      ],
      "metadata": {
        "id": "WVG0t_-UzYbu"
      }
    },
    {
      "cell_type": "code",
      "source": [
        "try:\n",
        "  pay = 0\n",
        "  hours = float(input('Enter Hours: '))\n",
        "  rate = float(input('Enter Rate: '))\n",
        "\n",
        "  if hours < 40:\n",
        "      pay = rate * hours\n",
        "  else:\n",
        "    # Calculate amount of overtime\n",
        "      overtime = hours - 40\n",
        "      pay = (rate * 40.0) + (1.5 * rate * overtime)\n",
        "\n",
        "  print(f'Total Pay: {pay}')\n",
        "except Exception as e:\n",
        "  print(\"Please Enter Numeric input\")"
      ],
      "metadata": {
        "colab": {
          "base_uri": "https://localhost:8080/"
        },
        "id": "C6oU3xMIzcts",
        "outputId": "17755c9e-e863-408d-e1ce-284736894b0d"
      },
      "execution_count": 6,
      "outputs": [
        {
          "output_type": "stream",
          "name": "stdout",
          "text": [
            "Enter Hours: forty\n",
            "Please Enter Numeric input\n"
          ]
        }
      ]
    },
    {
      "cell_type": "markdown",
      "source": [
        "#Exercise 3.\n",
        "Write a program to prompt for a score between 0.0 and 1.0. If the\n",
        "score is out of range, print an error message. If the score is between 0.0 and\n",
        "1.0, print a grade using the following table:\n",
        "Score    Grade\n",
        "=> 0.9      A\n",
        "\n",
        "=> 0.8      B\n",
        "\n",
        "=> 0.7      C\n",
        "\n",
        "=> 0.6      D\n",
        "\n",
        "  < 0.6      F\n",
        "\n",
        "\n",
        "\n",
        "Enter score: perfect\n",
        "Bad score\n",
        "\n",
        "Enter score: 10.0\n",
        "Bad score\n",
        "\n",
        "Enter score: 0.75\n",
        "C\n",
        "\n",
        "Enter score: 0.5\n",
        "F\n",
        "\n",
        "Run the program repeatedly as shown above to test the various, different\n",
        "values for input.\n",
        "\n",
        "Python for Everybody: Exploring Data Using Python 3\n",
        "by Charles R. Severance"
      ],
      "metadata": {
        "id": "7C0-zVCy1PD-"
      }
    },
    {
      "cell_type": "code",
      "source": [
        "try:\n",
        "  score = float(input(\"Enter your Score (0.0 to 1.0) \\n\"))\n",
        "except Exception as e:\n",
        "  print('Bad Score')\n",
        "\n",
        "if score >= 1.0:\n",
        "  grade = 'Bad Score'\n",
        "\n",
        "elif 1.0> score >= 0.9:\n",
        "  grade = 'A'\n",
        "\n",
        "elif 0.9> score >= 0.8:\n",
        "  grade = 'B'\n",
        "\n",
        "elif 0.8>score >= 0.7:\n",
        "  grade = 'C'\n",
        "\n",
        "elif 0.7>score >= 0.6:\n",
        "  grade = 'D'\n",
        "\n",
        "elif 0.0 <score < 0.6:\n",
        "  grade = 'F'\n",
        "else:\n",
        "  grade = 'Bad Score'\n",
        "\n",
        "print(grade)\n",
        "\n"
      ],
      "metadata": {
        "colab": {
          "base_uri": "https://localhost:8080/"
        },
        "id": "9WDe60GZ1R8C",
        "outputId": "58b2ad94-7db4-4c02-8c55-d97dcf9c51c7"
      },
      "execution_count": 27,
      "outputs": [
        {
          "output_type": "stream",
          "name": "stdout",
          "text": [
            "Enter your Score (0.0 to 1.0) \n",
            "-1\n",
            "Bad Score\n"
          ]
        }
      ]
    },
    {
      "cell_type": "code",
      "source": [
        ""
      ],
      "metadata": {
        "id": "OYELeOJ43Dlr"
      },
      "execution_count": 19,
      "outputs": []
    }
  ]
}